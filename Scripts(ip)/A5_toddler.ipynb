{
 "cells": [
  {
   "cell_type": "markdown",
   "id": "7b505ab2-bfbf-40f1-8785-f1bdb3469faa",
   "metadata": {},
   "source": [
    "## Part1:File Structure"
   ]
  },
  {
   "cell_type": "markdown",
   "id": "f5dbcb36-08bc-434a-825d-cb5ab5f8f257",
   "metadata": {},
   "source": [
    "- Give your project a proper file structure.  There should be at least one (but maybe more!) folders.  Some possible folders:\n",
    "Data or dat\n",
    "Scripts or scr\n",
    "Documents or doc\n",
    "Results\n",
    "Clean_Data\n",
    "- Think about what should live in your root:  at the minimum, LICENCE, README, .gitignore\n",
    "- If your data is in a different folder than your scripts, you may need to use pd.read_csv(\"../data/data.csv\") as your relative path.\n",
    "- You will be using only relative paths, not absolute paths.  This means that anyone else that forks your project can run everything, without having to change the path.\n",
    "- Don't merge in your branch until I've released grades!\n",
    "- Take a screen grab of the local version of your project, as the data is in the .gitignore file."
   ]
  },
  {
   "cell_type": "markdown",
   "id": "4fcd9299-dc51-4aa3-b31c-550bebf07fd3",
   "metadata": {},
   "source": [
    "## Part2:Joins"
   ]
  },
  {
   "cell_type": "markdown",
   "id": "360a160b-1f81-4f1c-9f06-039bbc9d8c62",
   "metadata": {},
   "source": [
    "- Find another dataset that will join with your original data.  This can be anything that you would like, as long as there is a key in common.\n",
    "- If you cannot find any real data, you may wish to generate some fake data - Just cite that."
   ]
  },
  {
   "cell_type": "code",
   "execution_count": 5,
   "id": "a0f29d81-d081-4e51-83a1-3c693d73c367",
   "metadata": {},
   "outputs": [
    {
     "name": "stdout",
     "output_type": "stream",
     "text": [
      "   Pregnancies  Glucose  BloodPressure  SkinThickness  Insulin   BMI  \\\n",
      "0            6      148             72             35        0  33.6   \n",
      "1            1       85             66             29        0  26.6   \n",
      "2            8      183             64              0        0  23.3   \n",
      "\n",
      "   DiabetesPedigreeFunction  Age  Outcome  \n",
      "0                     0.627   50        1  \n",
      "1                     0.351   31        0  \n",
      "2                     0.672   32        1  \n"
     ]
    }
   ],
   "source": [
    "import pandas as pd\n",
    "\n",
    "# Load the datasets\n",
    "df_diabetes = pd.read_csv(\"../data/diabetes.csv\")\n",
    "df_hospital = pd.read_csv(\"../data/diabetic_data.csv\")\n",
    "\n",
    "# Display the first few rows to understand the structure\n",
    "print(df_diabetes.head(3))\n",
    "#print(df_hospital.head(3))\n"
   ]
  },
  {
   "cell_type": "code",
   "execution_count": 6,
   "id": "49560f96-4aa1-464e-8ede-abd0fc62a03d",
   "metadata": {},
   "outputs": [
    {
     "name": "stdout",
     "output_type": "stream",
     "text": [
      "   Pregnancies  Glucose  BloodPressure  SkinThickness  Insulin   BMI  \\\n",
      "0            6      148             72             35        0  33.6   \n",
      "1            1       85             66             29        0  26.6   \n",
      "2            8      183             64              0        0  23.3   \n",
      "3            1       89             66             23       94  28.1   \n",
      "4            0      137             40             35      168  43.1   \n",
      "\n",
      "   DiabetesPedigreeFunction  Outcome      age  \n",
      "0                     0.627        1  [50-60)  \n",
      "1                     0.351        0  [30-40)  \n",
      "2                     0.672        1  [30-40)  \n",
      "3                     0.167        0  [20-30)  \n",
      "4                     2.288        1  [30-40)  \n"
     ]
    }
   ],
   "source": [
    "# Define age bins and labels to match `diabetic_data.csv`\n",
    "def convert_age_to_range(age):\n",
    "    if age < 10:\n",
    "        return \"[0-10)\"\n",
    "    elif age < 20:\n",
    "        return \"[10-20)\"\n",
    "    elif age < 30:\n",
    "        return \"[20-30)\"\n",
    "    elif age < 40:\n",
    "        return \"[30-40)\"\n",
    "    elif age < 50:\n",
    "        return \"[40-50)\"\n",
    "    elif age < 60:\n",
    "        return \"[50-60)\"\n",
    "    elif age < 70:\n",
    "        return \"[60-70)\"\n",
    "    elif age < 80:\n",
    "        return \"[70-80)\"\n",
    "    elif age < 90:\n",
    "        return \"[80-90)\"\n",
    "    else:\n",
    "        return \"[90-100)\"\n",
    "\n",
    "# Apply the function to the `Age` column\n",
    "df_diabetes[\"age\"] = df_diabetes[\"Age\"].apply(convert_age_to_range)\n",
    "\n",
    "# Drop the old `Age` column (optional)\n",
    "df_diabetes = df_diabetes.drop(columns=[\"Age\"])\n",
    "\n",
    "# Display updated dataframe\n",
    "print(df_diabetes.head())\n"
   ]
  },
  {
   "cell_type": "code",
   "execution_count": 7,
   "id": "2dd86eda-92ba-4841-97a7-ff7c4f7c5688",
   "metadata": {},
   "outputs": [
    {
     "name": "stdout",
     "output_type": "stream",
     "text": [
      "encounter_id                 int64\n",
      "patient_nbr                  int64\n",
      "race                        object\n",
      "gender                      object\n",
      "age                         object\n",
      "weight                      object\n",
      "admission_type_id            int64\n",
      "discharge_disposition_id     int64\n",
      "admission_source_id          int64\n",
      "time_in_hospital             int64\n",
      "payer_code                  object\n",
      "medical_specialty           object\n",
      "num_lab_procedures           int64\n",
      "num_procedures               int64\n",
      "num_medications              int64\n",
      "number_outpatient            int64\n",
      "number_emergency             int64\n",
      "number_inpatient             int64\n",
      "diag_1                      object\n",
      "diag_2                      object\n",
      "diag_3                      object\n",
      "number_diagnoses             int64\n",
      "max_glu_serum               object\n",
      "A1Cresult                   object\n",
      "metformin                   object\n",
      "repaglinide                 object\n",
      "nateglinide                 object\n",
      "chlorpropamide              object\n",
      "glimepiride                 object\n",
      "acetohexamide               object\n",
      "glipizide                   object\n",
      "glyburide                   object\n",
      "tolbutamide                 object\n",
      "pioglitazone                object\n",
      "rosiglitazone               object\n",
      "acarbose                    object\n",
      "miglitol                    object\n",
      "troglitazone                object\n",
      "tolazamide                  object\n",
      "examide                     object\n",
      "citoglipton                 object\n",
      "insulin                     object\n",
      "glyburide-metformin         object\n",
      "glipizide-metformin         object\n",
      "glimepiride-pioglitazone    object\n",
      "metformin-rosiglitazone     object\n",
      "metformin-pioglitazone      object\n",
      "change                      object\n",
      "diabetesMed                 object\n",
      "readmitted                  object\n",
      "dtype: object\n",
      "   time_in_hospital  num_lab_procedures  num_medications readmitted\n",
      "0                 1                  41                1         NO\n",
      "1                 3                  59               18        >30\n",
      "2                 2                  11               13         NO\n",
      "3                 2                  44               16         NO\n",
      "4                 1                  51                8         NO\n",
      "5                 3                  31               16        >30\n",
      "6                 4                  70               21         NO\n",
      "7                 5                  73               12        >30\n",
      "8                13                  68               28         NO\n",
      "9                12                  33               18         NO\n"
     ]
    }
   ],
   "source": [
    "print(df_hospital.dtypes)\n",
    "print(df_hospital[[\"time_in_hospital\", \"num_lab_procedures\", \"num_medications\", \"readmitted\"]].head(10))\n"
   ]
  },
  {
   "cell_type": "code",
   "execution_count": 8,
   "id": "e4fc8d88-6bba-4820-b24b-8af56767f0c3",
   "metadata": {},
   "outputs": [],
   "source": [
    "df_hospital[\"readmitted\"] = df_hospital[\"readmitted\"].map({\"NO\": 0, \"<30\": 1, \">30\": 1})\n",
    "# This way, readmitted represents whether the patient was readmitted (1) or not (0)."
   ]
  },
  {
   "cell_type": "code",
   "execution_count": 9,
   "id": "84a3574d-23cf-431e-9dea-64dd6e59964f",
   "metadata": {},
   "outputs": [],
   "source": [
    "df_hospital[[\"time_in_hospital\", \"num_lab_procedures\", \"num_medications\"]] = df_hospital[[\"time_in_hospital\", \"num_lab_procedures\", \"num_medications\"]].apply(pd.to_numeric, errors=\"coerce\")\n",
    "# This forces non-numeric values to NaN, which will be ignored in aggregation."
   ]
  },
  {
   "cell_type": "code",
   "execution_count": 10,
   "id": "9f22fa1d-835f-4c6b-a729-9dc7b16854e0",
   "metadata": {},
   "outputs": [
    {
     "name": "stdout",
     "output_type": "stream",
     "text": [
      "Original diabetes dataset size: (768, 9)\n",
      "Original hospital dataset size: (101766, 50)\n",
      "Merged dataset size: (768, 13)\n"
     ]
    }
   ],
   "source": [
    "# Aggregate hospital data to get average values for each age group\n",
    "df_hospital_grouped = df_hospital.groupby(\"age\").agg({\n",
    "    \"time_in_hospital\": \"mean\",\n",
    "    \"num_lab_procedures\": \"mean\",\n",
    "    \"num_medications\": \"mean\",\n",
    "    \"readmitted\": \"mean\"  # Proportion of readmitted patients\n",
    "}).reset_index()\n",
    "\n",
    "# Merge the two datasets\n",
    "merged_df = pd.merge(df_diabetes, df_hospital_grouped, on=\"age\", how=\"inner\")\n",
    "\n",
    "print(f\"Original diabetes dataset size: {df_diabetes.shape}\")\n",
    "print(f\"Original hospital dataset size: {df_hospital.shape}\")\n",
    "print(f\"Merged dataset size: {merged_df.shape}\")"
   ]
  },
  {
   "cell_type": "markdown",
   "id": "b966c749-8f70-4659-9521-44ed4f9d20fd",
   "metadata": {},
   "source": [
    "### My explaination : Improved Predictive Power is the reason why I merge these two datasets.\n",
    "\n",
    "Now with a merged dataset that combines medical history with hospital readmission records. \n",
    "Means that I am being able to use this for predictive modeling to determine which diabetic patient group are at higher risk of hospital readmission."
   ]
  },
  {
   "cell_type": "markdown",
   "id": "ff9404f8-ef5f-4ce6-9e38-ed7a33a1be56",
   "metadata": {},
   "source": [
    "### Why Use inner Instead of Other Options?\n",
    "An inner merge keeps only the rows where the age values exist in both datasets, since I dont want to make the dataset way much larger then the original datasets. What I would like to see is that if an age exists in \"df_diabetes\" but not in \"df_hospital_grouped\", it is dropped.\n",
    "Or if I choose to do the left or other merge types, there could be 'NaN' values in columns where no match was found.\n",
    "Since my goal is to analyze only the age groups present in both datasets, an inner merge makes sense. "
   ]
  }
 ],
 "metadata": {
  "kernelspec": {
   "display_name": "Python [conda env:base] *",
   "language": "python",
   "name": "conda-base-py"
  },
  "language_info": {
   "codemirror_mode": {
    "name": "ipython",
    "version": 3
   },
   "file_extension": ".py",
   "mimetype": "text/x-python",
   "name": "python",
   "nbconvert_exporter": "python",
   "pygments_lexer": "ipython3",
   "version": "3.12.7"
  }
 },
 "nbformat": 4,
 "nbformat_minor": 5
}
